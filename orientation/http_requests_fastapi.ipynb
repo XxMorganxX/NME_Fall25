{
 "cells": [
  {
   "cell_type": "markdown",
   "id": "114b91e3",
   "metadata": {},
   "source": [
    "# **HTTP Communcation**"
   ]
  },
  {
   "cell_type": "markdown",
   "id": "7c5f0196",
   "metadata": {},
   "source": [
    "## Clients\n",
    "Clients are the computers we use everyday, including phones, tablets, laptops, desktops, and gaming consoles. Clients run code locally on their machine. Things like rendering images, reacting to button clicks and user input are all done as part of the frontend of an application. What makes an application truly “networked”, i.e. involving actions from other clients, is the backend of the application. These backends exist in the cloud, running on servers.\n",
    "\n",
    "## Servers\n",
    "Servers are also computers, just like clients. Servers centralize information and run backend code to execute operations to data and communicate with clients. This is the Server-Client Model and it is how the internet is architected today. Independent machines (like a phone, computer, etc.) make requests to servers and use the data returned in responses.\n",
    "\n",
    "## Requests\n",
    "Requests are the network calls transferred over the web. Let’s dissect a request made to http://www.google.com:\n",
    "\n",
    "\n",
    "## http: \n",
    "Hyper Text Transfer Protocol defines the protocol for the request and is reserved for port 80 on servers.  HTTP requests can be made with one of many types of methods. A method indicates the type of request being sent and how to handle the request. The most common methods used are GET, POST, DELETE, PUT, PATCH and are all standardized by HTTP protocol. Methods indicate the purpose of the request. GET is for information retrieval, POST for information transmission, DELETE for deleting, PUT & PATCH both for updating. Requests can also contain metadata, optional information located in the body of the request. Metadata can be in many forms, the two most common are XML and JSON. A request body is likely populating in the case of creating or updating items in the database.\n",
    "\n",
    "# Consider\n",
    "\n",
    "www: \n",
    "The subdomain we are trying to access.\n",
    "\n",
    "google: \n",
    "The domain we are trying to access. A Domain Name Service (DNS) will map this domain to a specific server for you to communicate with.  \n",
    "\n",
    "Going to http://www.google.com makes a GET request to the google domain. Similarly we can send a POST request to http://www.google.com/login to login our user. In the case of logging in, our POST request’s body will likely contain email/password information to be authenticated on the server.\n",
    "\n",
    "## Responses\n",
    "Servers respond the exact same way with their own network calls. They also obey HTTP protocol and have the ability to contain metadata in a response body. Responses also contain specific codes giving us a high-level understanding of how the request was handled. Some common examples are:\n",
    "\n",
    "- 200 → Successful\n",
    "\n",
    "- 404 → Not found\n",
    "\n",
    "- 500 → Internal server error (an uncaught exception)\n",
    "\n",
    "## The Whole Process\n",
    "A client makes a request for specific pieces of data that are sent out over the internet\n",
    "\n",
    "The request is received by a server\n",
    "\n",
    "The server runs internal processes to create, retrieve, update, or delete items\n",
    "\n",
    "The server returns response back to client over the internet"
   ]
  },
  {
   "cell_type": "markdown",
   "id": "cea7248c",
   "metadata": {},
   "source": [
    "# 🐍 Python Requests Library\n",
    "\n",
    "The **`requests`** library allows Python programs to send HTTP requests — the same kind of requests a browser or app would send — directly from code. It’s one of the most widely used Python libraries for interacting with APIs and web servers.\n",
    "\n",
    "---\n",
    "\n",
    "## 💡 What is `requests`?\n",
    "\n",
    "Whenever your application needs to:\n",
    "- Retrieve data from a web API  \n",
    "- Send information to a backend server  \n",
    "- Upload files  \n",
    "- Simulate a browser interacting with a website  \n",
    "\n",
    "you can use `requests` to handle that communication.\n",
    "\n",
    "To install it:\n",
    "```bash\n",
    "pip install requests\n"
   ]
  },
  {
   "cell_type": "code",
   "execution_count": null,
   "id": "c08b6063",
   "metadata": {},
   "outputs": [],
   "source": [
    "!pip install requests\n",
    "\n",
    "import requests"
   ]
  },
  {
   "cell_type": "code",
   "execution_count": null,
   "id": "700ef7e8",
   "metadata": {},
   "outputs": [],
   "source": [
    "response = requests.get(\"https://api.github.com/users/octocat\")\n",
    "print(response.status_code)\n",
    "print(response.json())"
   ]
  },
  {
   "cell_type": "code",
   "execution_count": null,
   "id": "df77ae8d",
   "metadata": {},
   "outputs": [],
   "source": [
    "payload = {\"name\": \"Morgan\", \"age\": 21}\n",
    "r = requests.post(\"https://httpbin.org/post\", json=payload)\n",
    "\n",
    "print(r.status_code)\n",
    "print(r.json())"
   ]
  },
  {
   "cell_type": "markdown",
   "id": "fa833a3d",
   "metadata": {},
   "source": [
    "🧠 Breakdown\n",
    "\n",
    "json = payload automatically encodes the dictionary into JSON\n",
    "\n",
    "The server at https://httpbin.org/post simply echoes back what we sent\n",
    "\n",
    "The response includes both the data and metadata"
   ]
  },
  {
   "cell_type": "markdown",
   "id": "e2af9c82",
   "metadata": {},
   "source": [
    "# POSTMAN\n",
    "\n",
    "Postman is a platform that allows developers to build, test, and debug HTTP requests without writing code. It provides a visual interface for sending requests (like GET, POST, PUT, DELETE) to APIs, viewing responses, inspecting headers, and managing authentication. Postman is especially useful for testing API endpoints during development — letting you confirm that routes, parameters, and payloads behave as expected before integrating them into your application.\n",
    "\n",
    "https://www.postman.com/downloads/"
   ]
  },
  {
   "cell_type": "markdown",
   "id": "f80959c2",
   "metadata": {},
   "source": [
    "#"
   ]
  },
  {
   "cell_type": "markdown",
   "id": "cceac16e",
   "metadata": {},
   "source": [
    "# ⚡ FastAPI — Building and Serving APIs in Python\n",
    "\n",
    "**FastAPI** is a modern, high-performance web framework for building APIs with Python.  \n",
    "It allows you to easily define endpoints that handle HTTP requests — just like the ones you’ve been sending with the `requests` library.\n",
    "\n",
    "---\n",
    "\n",
    "## 🚀 Why FastAPI?\n",
    "\n",
    "FastAPI makes it simple to:\n",
    "\n",
    "- Build RESTful APIs quickly and cleanly  \n",
    "- Automatically validate data using Python type hints  \n",
    "- Get built-in interactive API documentation (Swagger UI)  \n",
    "- Handle asynchronous requests efficiently  \n",
    "\n",
    "Under the hood, FastAPI uses **Starlette** for web handling and **Pydantic** for data validation.\n",
    "\n",
    "---\n",
    "\n",
    "## ⚙️ Installation\n",
    "\n",
    "Install FastAPI and the ASGI server **Uvicorn**:\n",
    "\n",
    "```bash\n",
    "pip install fastapi uvicorn\n"
   ]
  },
  {
   "cell_type": "code",
   "execution_count": null,
   "id": "8ae870cd",
   "metadata": {},
   "outputs": [],
   "source": [
    "!pip install fastapi uvicorn jsonify\n",
    "from fastapi import FastAPI\n",
    "import jsonify"
   ]
  },
  {
   "cell_type": "code",
   "execution_count": null,
   "id": "4e70dd33",
   "metadata": {},
   "outputs": [],
   "source": [
    "app = FastAPI()\n",
    "\n",
    "@app.get(\"/\")\n",
    "def root():\n",
    "    return {\"message\": \"Hello, FastAPI!\"}"
   ]
  },
  {
   "cell_type": "markdown",
   "id": "24ff73db",
   "metadata": {},
   "source": [
    "🧠 How It Works\n",
    "* app = FastAPI() creates the web application instance.\n",
    "\n",
    "* @app.get(\"/\") is a route decorator defining the path (/) and HTTP method (GET).\n",
    "\n",
    "* The function below it runs whenever that route is requested.\n",
    "\n",
    "*  The returned dictionary is automatically converted to JSON."
   ]
  },
  {
   "cell_type": "markdown",
   "id": "14105662",
   "metadata": {},
   "source": [
    "## Passing Parameters\n",
    " \\#1. Used when a value is part of the URL itself. Arguments\n",
    "\n",
    " \\#2. Used when passing data as ?key=value pairs in the URL. Keyword Arguments \n"
   ]
  },
  {
   "cell_type": "code",
   "execution_count": null,
   "id": "95471c6b",
   "metadata": {},
   "outputs": [],
   "source": [
    "#1\n",
    "\n",
    "@app.get(\"/users/{user_id}\")\n",
    "def get_user(user_id: int):\n",
    "    return json.dumps({\"user_id\": user_id}), 200"
   ]
  },
  {
   "cell_type": "code",
   "execution_count": null,
   "id": "7d68061d",
   "metadata": {},
   "outputs": [],
   "source": [
    "#2\n",
    "\n",
    "@app.get(\"/search\")\n",
    "def search(q: str = \"default\", limit: int = 10):\n",
    "    return json.dumps({\"query\": q, \"limit\": limit}), 200"
   ]
  },
  {
   "cell_type": "markdown",
   "id": "b14702d0",
   "metadata": {},
   "source": [
    "## Exception"
   ]
  },
  {
   "cell_type": "code",
   "execution_count": null,
   "id": "75e76aec",
   "metadata": {},
   "outputs": [],
   "source": [
    "@app.get(\"/divide/\")\n",
    "def divide(a: float, b: float):\n",
    "    if b == 0:\n",
    "        raise HTTPException(status_code=400, detail=\"Division by zero\")\n",
    "    return {\"result\": a / b}"
   ]
  },
  {
   "cell_type": "code",
   "execution_count": null,
   "id": "75e73b95",
   "metadata": {},
   "outputs": [],
   "source": []
  }
 ],
 "metadata": {
  "kernelspec": {
   "display_name": "Python 3",
   "language": "python",
   "name": "python3"
  },
  "language_info": {
   "codemirror_mode": {
    "name": "ipython",
    "version": 3
   },
   "file_extension": ".py",
   "mimetype": "text/x-python",
   "name": "python",
   "nbconvert_exporter": "python",
   "pygments_lexer": "ipython3",
   "version": "3.13.5"
  }
 },
 "nbformat": 4,
 "nbformat_minor": 5
}
