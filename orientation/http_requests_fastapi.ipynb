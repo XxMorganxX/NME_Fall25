{
 "cells": [
  {
   "cell_type": "markdown",
   "id": "114b91e3",
   "metadata": {},
   "source": [
    "# **HTTP Communcation**"
   ]
  },
  {
   "cell_type": "markdown",
   "id": "7c5f0196",
   "metadata": {},
   "source": [
    "## Clients\n",
    "Clients are the computers we use everyday, including phones, tablets, laptops, desktops, and gaming consoles. Clients run code locally on their machine. Things like rendering images, reacting to button clicks and user input are all done as part of the frontend of an application. What makes an application truly “networked”, i.e. involving actions from other clients, is the backend of the application. These backends exist in the cloud, running on servers.\n",
    "\n",
    "## Servers\n",
    "Servers are also computers, just like clients. Servers centralize information and run backend code to execute operations to data and communicate with clients. This is the Server-Client Model and it is how the internet is architected today. Independent machines (like a phone, computer, etc.) make requests to servers and use the data returned in responses.\n",
    "\n",
    "## Requests\n",
    "Requests are the network calls transferred over the web. Let’s dissect a request made to http://www.google.com:\n",
    "\n",
    "\n",
    "## http: \n",
    "Hyper Text Transfer Protocol defines the protocol for the request and is reserved for port 80 on servers.  HTTP requests can be made with one of many types of methods. A method indicates the type of request being sent and how to handle the request. The most common methods used are GET, POST, DELETE, PUT, PATCH and are all standardized by HTTP protocol. Methods indicate the purpose of the request. GET is for information retrieval, POST for information transmission, DELETE for deleting, PUT & PATCH both for updating. Requests can also contain metadata, optional information located in the body of the request. Metadata can be in many forms, the two most common are XML and JSON. A request body is likely populating in the case of creating or updating items in the database.\n",
    "\n",
    "# Consider\n",
    "\n",
    "www: \n",
    "The subdomain we are trying to access.\n",
    "\n",
    "google: \n",
    "The domain we are trying to access. A Domain Name Service (DNS) will map this domain to a specific server for you to communicate with.  \n",
    "\n",
    "Going to http://www.google.com makes a GET request to the google domain. Similarly we can send a POST request to http://www.google.com/login to login our user. In the case of logging in, our POST request’s body will likely contain email/password information to be authenticated on the server.\n",
    "\n",
    "## Responses\n",
    "Servers respond the exact same way with their own network calls. They also obey HTTP protocol and have the ability to contain metadata in a response body. Responses also contain specific codes giving us a high-level understanding of how the request was handled. Some common examples are:\n",
    "\n",
    "- 200 → Successful\n",
    "\n",
    "- 404 → Not found\n",
    "\n",
    "- 500 → Internal server error (an uncaught exception)\n",
    "\n",
    "## The Whole Process\n",
    "A client makes a request for specific pieces of data that are sent out over the internet\n",
    "\n",
    "The request is received by a server\n",
    "\n",
    "The server runs internal processes to create, retrieve, update, or delete items\n",
    "\n",
    "The server returns response back to client over the internet"
   ]
  },
  {
   "cell_type": "markdown",
   "id": "cea7248c",
   "metadata": {},
   "source": [
    "# 🐍 Python Requests Library\n",
    "\n",
    "The **`requests`** library allows Python programs to send HTTP requests — the same kind of requests a browser or app would send — directly from code. It’s one of the most widely used Python libraries for interacting with APIs and web servers.\n",
    "\n",
    "---\n",
    "\n",
    "## 💡 What is `requests`?\n",
    "\n",
    "Whenever your application needs to:\n",
    "- Retrieve data from a web API  \n",
    "- Send information to a backend server  \n",
    "- Upload files  \n",
    "- Simulate a browser interacting with a website  \n",
    "\n",
    "you can use `requests` to handle that communication.\n",
    "\n",
    "To install it:\n",
    "```bash\n",
    "pip install requests\n"
   ]
  },
  {
   "cell_type": "code",
   "execution_count": 1,
   "id": "c08b6063",
   "metadata": {},
   "outputs": [
    {
     "name": "stdout",
     "output_type": "stream",
     "text": [
      "Requirement already satisfied: requests in /opt/homebrew/Caskroom/miniconda/base/lib/python3.13/site-packages (2.32.4)\n",
      "Requirement already satisfied: charset_normalizer<4,>=2 in /opt/homebrew/Caskroom/miniconda/base/lib/python3.13/site-packages (from requests) (3.3.2)\n",
      "Requirement already satisfied: idna<4,>=2.5 in /opt/homebrew/Caskroom/miniconda/base/lib/python3.13/site-packages (from requests) (3.7)\n",
      "Requirement already satisfied: urllib3<3,>=1.21.1 in /opt/homebrew/Caskroom/miniconda/base/lib/python3.13/site-packages (from requests) (2.5.0)\n",
      "Requirement already satisfied: certifi>=2017.4.17 in /opt/homebrew/Caskroom/miniconda/base/lib/python3.13/site-packages (from requests) (2025.8.3)\n"
     ]
    }
   ],
   "source": [
    "!pip install requests\n",
    "\n",
    "import requests"
   ]
  },
  {
   "cell_type": "code",
   "execution_count": 2,
   "id": "700ef7e8",
   "metadata": {},
   "outputs": [
    {
     "name": "stdout",
     "output_type": "stream",
     "text": [
      "200\n",
      "{'login': 'octocat', 'id': 583231, 'node_id': 'MDQ6VXNlcjU4MzIzMQ==', 'avatar_url': 'https://avatars.githubusercontent.com/u/583231?v=4', 'gravatar_id': '', 'url': 'https://api.github.com/users/octocat', 'html_url': 'https://github.com/octocat', 'followers_url': 'https://api.github.com/users/octocat/followers', 'following_url': 'https://api.github.com/users/octocat/following{/other_user}', 'gists_url': 'https://api.github.com/users/octocat/gists{/gist_id}', 'starred_url': 'https://api.github.com/users/octocat/starred{/owner}{/repo}', 'subscriptions_url': 'https://api.github.com/users/octocat/subscriptions', 'organizations_url': 'https://api.github.com/users/octocat/orgs', 'repos_url': 'https://api.github.com/users/octocat/repos', 'events_url': 'https://api.github.com/users/octocat/events{/privacy}', 'received_events_url': 'https://api.github.com/users/octocat/received_events', 'type': 'User', 'user_view_type': 'public', 'site_admin': False, 'name': 'The Octocat', 'company': '@github', 'blog': 'https://github.blog', 'location': 'San Francisco', 'email': None, 'hireable': None, 'bio': None, 'twitter_username': None, 'public_repos': 8, 'public_gists': 8, 'followers': 20248, 'following': 9, 'created_at': '2011-01-25T18:44:36Z', 'updated_at': '2025-09-22T11:29:08Z'}\n"
     ]
    }
   ],
   "source": [
    "response = requests.get(\"https://api.github.com/users/octocat\")\n",
    "print(response.status_code)\n",
    "print(response.json())"
   ]
  },
  {
   "cell_type": "code",
   "execution_count": null,
   "id": "df77ae8d",
   "metadata": {},
   "outputs": [
    {
     "name": "stdout",
     "output_type": "stream",
     "text": [
      "200\n",
      "{'args': {}, 'data': '{\"name\": \"Morgan\", \"age\": 21}', 'files': {}, 'form': {}, 'headers': {'Accept': '*/*', 'Accept-Encoding': 'gzip, deflate, br, zstd', 'Content-Length': '29', 'Content-Type': 'application/json', 'Host': 'httpbin.org', 'User-Agent': 'python-requests/2.32.4', 'X-Amzn-Trace-Id': 'Root=1-68f54194-3c642b280121e29e060c462b'}, 'json': {'age': 21, 'name': 'Morgan'}, 'origin': '128.84.124.219', 'url': 'https://httpbin.org/post'}\n"
     ]
    }
   ],
   "source": [
    "payload = {\"name\": \"Morgan\", \"age\": 21}\n",
    "payload_json = json.dumps(payload)\n",
    "r = requests.post(\"https://httpbin.org/post\", json=payload)\n",
    "\n",
    "print(r.status_code)\n",
    "print(r.json())"
   ]
  },
  {
   "cell_type": "markdown",
   "id": "fa833a3d",
   "metadata": {},
   "source": [
    "🧠 Breakdown\n",
    "\n",
    "json = payload automatically encodes the dictionary into JSON\n",
    "\n",
    "The server at https://httpbin.org/post simply echoes back what we sent\n",
    "\n",
    "The response includes both the data and metadata"
   ]
  },
  {
   "cell_type": "markdown",
   "id": "e2af9c82",
   "metadata": {},
   "source": [
    "# POSTMAN\n",
    "\n",
    "Postman is a platform that allows developers to build, test, and debug HTTP requests without writing code. It provides a visual interface for sending requests (like GET, POST, PUT, DELETE) to APIs, viewing responses, inspecting headers, and managing authentication. Postman is especially useful for testing API endpoints during development — letting you confirm that routes, parameters, and payloads behave as expected before integrating them into your application.\n",
    "\n",
    "https://www.postman.com/downloads/"
   ]
  },
  {
   "cell_type": "markdown",
   "id": "f80959c2",
   "metadata": {},
   "source": [
    "#"
   ]
  },
  {
   "cell_type": "markdown",
   "id": "cceac16e",
   "metadata": {},
   "source": [
    "# ⚡ FastAPI — Building and Serving APIs in Python\n",
    "\n",
    "**FastAPI** is a modern, high-performance web framework for building APIs with Python.  \n",
    "It allows you to easily define endpoints that handle HTTP requests — just like the ones you’ve been sending with the `requests` library.\n",
    "\n",
    "---\n",
    "\n",
    "## 🚀 Why FastAPI?\n",
    "\n",
    "FastAPI makes it simple to:\n",
    "\n",
    "- Build RESTful APIs quickly and cleanly  \n",
    "- Automatically validate data using Python type hints  \n",
    "- Get built-in interactive API documentation (Swagger UI)  \n",
    "- Handle asynchronous requests efficiently  \n",
    "\n",
    "Under the hood, FastAPI uses **Starlette** for web handling and **Pydantic** for data validation.\n",
    "\n",
    "---\n",
    "\n",
    "## ⚙️ Installation\n",
    "\n",
    "Install FastAPI and the ASGI server **Uvicorn**:\n",
    "\n",
    "```bash\n",
    "pip install fastapi uvicorn\n"
   ]
  },
  {
   "cell_type": "code",
   "execution_count": 4,
   "id": "8ae870cd",
   "metadata": {},
   "outputs": [
    {
     "name": "stdout",
     "output_type": "stream",
     "text": [
      "Collecting fastapi\n",
      "  Using cached fastapi-0.119.0-py3-none-any.whl.metadata (28 kB)\n",
      "Collecting uvicorn\n",
      "  Using cached uvicorn-0.38.0-py3-none-any.whl.metadata (6.8 kB)\n",
      "Collecting jsonify\n",
      "  Using cached jsonify-0.5-py3-none-any.whl\n",
      "Collecting starlette<0.49.0,>=0.40.0 (from fastapi)\n",
      "  Using cached starlette-0.48.0-py3-none-any.whl.metadata (6.3 kB)\n",
      "Requirement already satisfied: pydantic!=1.8,!=1.8.1,!=2.0.0,!=2.0.1,!=2.1.0,<3.0.0,>=1.7.4 in /opt/homebrew/Caskroom/miniconda/base/lib/python3.13/site-packages (from fastapi) (2.11.7)\n",
      "Requirement already satisfied: typing-extensions>=4.8.0 in /opt/homebrew/Caskroom/miniconda/base/lib/python3.13/site-packages (from fastapi) (4.15.0)\n",
      "Requirement already satisfied: annotated-types>=0.6.0 in /opt/homebrew/Caskroom/miniconda/base/lib/python3.13/site-packages (from pydantic!=1.8,!=1.8.1,!=2.0.0,!=2.0.1,!=2.1.0,<3.0.0,>=1.7.4->fastapi) (0.6.0)\n",
      "Requirement already satisfied: pydantic-core==2.33.2 in /opt/homebrew/Caskroom/miniconda/base/lib/python3.13/site-packages (from pydantic!=1.8,!=1.8.1,!=2.0.0,!=2.0.1,!=2.1.0,<3.0.0,>=1.7.4->fastapi) (2.33.2)\n",
      "Requirement already satisfied: typing-inspection>=0.4.0 in /opt/homebrew/Caskroom/miniconda/base/lib/python3.13/site-packages (from pydantic!=1.8,!=1.8.1,!=2.0.0,!=2.0.1,!=2.1.0,<3.0.0,>=1.7.4->fastapi) (0.4.0)\n",
      "Collecting anyio<5,>=3.6.2 (from starlette<0.49.0,>=0.40.0->fastapi)\n",
      "  Using cached anyio-4.11.0-py3-none-any.whl.metadata (4.1 kB)\n",
      "Requirement already satisfied: idna>=2.8 in /opt/homebrew/Caskroom/miniconda/base/lib/python3.13/site-packages (from anyio<5,>=3.6.2->starlette<0.49.0,>=0.40.0->fastapi) (3.7)\n",
      "Collecting sniffio>=1.1 (from anyio<5,>=3.6.2->starlette<0.49.0,>=0.40.0->fastapi)\n",
      "  Using cached sniffio-1.3.1-py3-none-any.whl.metadata (3.9 kB)\n",
      "Requirement already satisfied: click>=7.0 in /opt/homebrew/Caskroom/miniconda/base/lib/python3.13/site-packages (from uvicorn) (8.2.1)\n",
      "Collecting h11>=0.8 (from uvicorn)\n",
      "  Using cached h11-0.16.0-py3-none-any.whl.metadata (8.3 kB)\n",
      "Using cached fastapi-0.119.0-py3-none-any.whl (107 kB)\n",
      "Using cached starlette-0.48.0-py3-none-any.whl (73 kB)\n",
      "Using cached anyio-4.11.0-py3-none-any.whl (109 kB)\n",
      "Using cached uvicorn-0.38.0-py3-none-any.whl (68 kB)\n",
      "Using cached h11-0.16.0-py3-none-any.whl (37 kB)\n",
      "Using cached sniffio-1.3.1-py3-none-any.whl (10 kB)\n",
      "Installing collected packages: jsonify, sniffio, h11, uvicorn, anyio, starlette, fastapi\n",
      "\u001b[2K   \u001b[90m━━━━━━━━━━━━━━━━━━━━━━━━━━━━━━━━━━━━━━━━\u001b[0m \u001b[32m7/7\u001b[0m [fastapi]m6/7\u001b[0m [fastapi]\n",
      "\u001b[1A\u001b[2KSuccessfully installed anyio-4.11.0 fastapi-0.119.0 h11-0.16.0 jsonify-0.5 sniffio-1.3.1 starlette-0.48.0 uvicorn-0.38.0\n"
     ]
    }
   ],
   "source": [
    "!pip install fastapi uvicorn jsonify\n",
    "from fastapi import FastAPI\n",
    "import jsonify"
   ]
  },
  {
   "cell_type": "code",
   "execution_count": null,
   "id": "4e70dd33",
   "metadata": {},
   "outputs": [],
   "source": [
    "app = FastAPI()\n",
    "\n",
    "@app.get(\"/\")\n",
    "def root():\n",
    "    return {\"message\": \"Hello, FastAPI!\"}"
   ]
  },
  {
   "cell_type": "markdown",
   "id": "24ff73db",
   "metadata": {},
   "source": [
    "🧠 How It Works\n",
    "* app = FastAPI() creates the web application instance.\n",
    "\n",
    "* @app.get(\"/\") is a route decorator defining the path (/) and HTTP method (GET).\n",
    "\n",
    "* The function below it runs whenever that route is requested.\n",
    "\n",
    "*  The returned dictionary is automatically converted to JSON."
   ]
  },
  {
   "cell_type": "markdown",
   "id": "14105662",
   "metadata": {},
   "source": [
    "## Passing Parameters\n",
    " \\#1. Used when a value is part of the URL itself. Arguments\n",
    "\n",
    " \\#2. Used when passing data as ?key=value pairs in the URL. Keyword Arguments \n"
   ]
  },
  {
   "cell_type": "code",
   "execution_count": null,
   "id": "95471c6b",
   "metadata": {},
   "outputs": [],
   "source": [
    "#1\n",
    "\n",
    "@app.get(\"/users/{user_id}\")\n",
    "def get_user(user_id: int):\n",
    "    return json.dumps({\"user_id\": user_id}), 200"
   ]
  },
  {
   "cell_type": "code",
   "execution_count": null,
   "id": "7d68061d",
   "metadata": {},
   "outputs": [],
   "source": [
    "#2\n",
    "\n",
    "@app.get(\"/search\")\n",
    "def search(q: str = \"default\", limit: int = 10):\n",
    "    return json.dumps({\"query\": q, \"limit\": limit}), 200"
   ]
  },
  {
   "cell_type": "markdown",
   "id": "b14702d0",
   "metadata": {},
   "source": [
    "## Exception"
   ]
  },
  {
   "cell_type": "code",
   "execution_count": null,
   "id": "75e76aec",
   "metadata": {},
   "outputs": [],
   "source": [
    "@app.get(\"/divide/\")\n",
    "def divide(a: float, b: float):\n",
    "    if b == 0:\n",
    "        raise HTTPException(status_code=400, detail=\"Division by zero\")\n",
    "    return {\"result\": a / b}"
   ]
  },
  {
   "cell_type": "code",
   "execution_count": null,
   "id": "75e73b95",
   "metadata": {},
   "outputs": [],
   "source": []
  }
 ],
 "metadata": {
  "kernelspec": {
   "display_name": "Python 3",
   "language": "python",
   "name": "python3"
  },
  "language_info": {
   "codemirror_mode": {
    "name": "ipython",
    "version": 3
   },
   "file_extension": ".py",
   "mimetype": "text/x-python",
   "name": "python",
   "nbconvert_exporter": "python",
   "pygments_lexer": "ipython3",
   "version": "3.13.5"
  }
 },
 "nbformat": 4,
 "nbformat_minor": 5
}
