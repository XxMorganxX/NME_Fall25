{
 "cells": [
  {
   "cell_type": "markdown",
   "id": "20b84380",
   "metadata": {},
   "source": [
    "## 🧪 Mini Exercise: Customers & Orders (Two Tables + Foreign Key)\n",
    "\n",
    "You run a small online shop. Create two tables:\n",
    "\n",
    "1) **Customers**  \n",
    "    - customer_id   INTEGER  PRIMARY KEY,\n",
    "    - name          TEXT        NOT NULL,\n",
    "    - email         TEXT        UNIQUE,\n",
    "    - city          TEXT,\n",
    "    - joined_at     DATE        DEFAULT (DATE('now'))\n",
    "2) **Orders** (each order belongs to one customer)\n",
    "    - order_id      INTEGER PRIMARY KEY,\n",
    "    - customer_id   INTEGER     NOT NULL,\n",
    "    - order_date    DATE        NOT NULL,\n",
    "    - status        TEXT        NOT NULL CHECK (status IN ('pending','shipped','cancelled')),\n",
    "    - total_cents   INTEGER     NOT NULL CHECK (total_cents >= 0),\n",
    "    - FOREIGN KEY (customer_id) REFERENCES Customers(customer_id)\n",
    "        - ON DELETE RESTRICT\n",
    "        - ON UPDATE CASCADE\n",
    "\n",
    "Then practice `INSERT`, `UPDATE`, `SELECT`, `JOIN`, and simple aggregations."
   ]
  },
  {
   "cell_type": "code",
   "execution_count": null,
   "id": "74c15ccc",
   "metadata": {},
   "outputs": [],
   "source": [
    "import psycopg2\n",
    "\n",
    "conn = psycopg2.connect(\n",
    "    host=\"db.YOUR_PROJECT_ID.supabase.co\",\n",
    "    database=\"postgres\",\n",
    "    user=\"postgres\",\n",
    "    password=\"YOUR_DB_PASSWORD\",\n",
    "    port=\"6543\"\n",
    ")\n",
    "\n",
    "cur = conn.cursor()"
   ]
  },
  {
   "cell_type": "code",
   "execution_count": null,
   "id": "fa797b38",
   "metadata": {},
   "outputs": [],
   "source": [
    "import requests\n",
    "\n",
    "url = \"https://YOUR_PROJECT_ID.supabase.co/rest/v1/rpc\"\n",
    "headers = {\n",
    "    \"apikey\": \"YOUR_SUPABASE_SERVICE_ROLE_KEY\",\n",
    "    \"Authorization\": f\"Bearer YOUR_SUPABASE_SERVICE_ROLE_KEY\",\n",
    "    \"Content-Type\": \"application/json\",\n",
    "}\n",
    "\n",
    "query = \"SELECT * FROM users;\"\n",
    "response = requests.post(f\"{url}/execute_sql\", headers=headers, json={\"query\": query})\n",
    "print(response.json())"
   ]
  },
  {
   "cell_type": "markdown",
   "id": "3a95d809",
   "metadata": {},
   "source": [
    "```sql\n",
    "\n",
    "-- Customers\n",
    "INSERT INTO Customers (customer_id, name, email, city) VALUES\n",
    "(1, 'Alice Chen',  'alice@example.com',  'Ithaca'),\n",
    "(2, 'Ben Patel',   'ben@example.com',    'NYC'),\n",
    "(3, 'Carla Gomez', 'carla@example.com',  'Boston'),\n",
    "(4, 'Diego Liu',   'diego@example.com',  'Philadelphia'),\n",
    "(5, 'Eva Park',    'eva@example.com',    'Ithaca');\n",
    "\n",
    "-- Orders (amounts in cents)\n",
    "INSERT INTO Orders (order_id, customer_id, order_date, status, total_cents) VALUES\n",
    "(101, 1, '2025-10-10', 'pending',  3200),   -- $32.00\n",
    "(102, 1, '2025-10-11', 'pending',  8900),   -- $89.00\n",
    "(103, 2, '2025-10-12', 'pending',  1499),   -- $14.99\n",
    "(104, 3, '2025-10-12', 'pending',  5600),   -- $56.00\n",
    "(105, 3, '2025-10-13', 'pending',  2400),   -- $24.00\n",
    "(106, 4, '2025-10-14', 'pending',  10500),  -- $105.00\n",
    "(107, 5, '2025-10-14', 'pending',  4999);   -- $49.99\n",
    "```"
   ]
  },
  {
   "cell_type": "markdown",
   "id": "c75ee897",
   "metadata": {},
   "source": [
    "### ✅ Tasks\n",
    "\n",
    "1. **Update a few orders to 'shipped'**  \n",
    "   - Set orders 101, 104, and 106 to `status = 'shipped'`."
   ]
  },
  {
   "cell_type": "code",
   "execution_count": null,
   "id": "3a23c3bc",
   "metadata": {},
   "outputs": [],
   "source": []
  },
  {
   "cell_type": "markdown",
   "id": "3259bc3a",
   "metadata": {},
   "source": [
    "2. **Cancel one order**  \n",
    "   - Set order 103 to `status = 'cancelled'`."
   ]
  },
  {
   "cell_type": "code",
   "execution_count": null,
   "id": "4a782a22",
   "metadata": {},
   "outputs": [],
   "source": []
  },
  {
   "cell_type": "markdown",
   "id": "a0dd7ebf",
   "metadata": {},
   "source": [
    "3. **Select:** All orders **over $50** (i.e., `total_cents >= 5000`)  \n",
    "   - Return `order_id`, `customer_id`, `total_cents`."
   ]
  },
  {
   "cell_type": "code",
   "execution_count": null,
   "id": "1ca8d20b",
   "metadata": {},
   "outputs": [],
   "source": []
  },
  {
   "cell_type": "markdown",
   "id": "ec5834e1",
   "metadata": {},
   "source": [
    "4. **Join:** List **customer name, order_id, status, total ($)** for all **shipped** orders  \n",
    "   - Sort by `order_date` ascending.\n"
   ]
  },
  {
   "cell_type": "code",
   "execution_count": null,
   "id": "6ce61da2",
   "metadata": {},
   "outputs": [],
   "source": []
  },
  {
   "cell_type": "markdown",
   "id": "129fc9f6",
   "metadata": {},
   "source": [
    "5. **Aggregation:** For each customer, show their **total spend in dollars** and **number of orders**  \n",
    "   - Columns: `name`, `orders_count`, `total_spend_usd`  \n",
    "   - Sort by `total_spend_usd` descending.\n",
    "\n"
   ]
  },
  {
   "cell_type": "code",
   "execution_count": null,
   "id": "e1c23b6c",
   "metadata": {},
   "outputs": [],
   "source": []
  },
  {
   "cell_type": "markdown",
   "id": "487f60cf",
   "metadata": {},
   "source": [
    "6. **Filter groups:** Show customers with **more than 1 order** (name + count).\n",
    "\n"
   ]
  },
  {
   "cell_type": "code",
   "execution_count": null,
   "id": "57f34687",
   "metadata": {},
   "outputs": [],
   "source": []
  },
  {
   "cell_type": "markdown",
   "id": "91c71c7e",
   "metadata": {},
   "source": [
    "7. **String/Pattern:** Find customers whose email ends with `@example.com` (name + email).\n",
    "\n"
   ]
  },
  {
   "cell_type": "code",
   "execution_count": null,
   "id": "781c59a1",
   "metadata": {},
   "outputs": [],
   "source": []
  },
  {
   "cell_type": "markdown",
   "id": "fab8c1d1",
   "metadata": {},
   "source": [
    "8. **Foreign key sanity check:**  \n",
    "   - Try to delete customer **Alice (id=1)** and observe the FK behavior.  \n",
    "   - Then delete a customer **with no orders** (insert a temp customer and then delete).\n",
    "\n"
   ]
  },
  {
   "cell_type": "code",
   "execution_count": null,
   "id": "86f60f6d",
   "metadata": {},
   "outputs": [],
   "source": []
  },
  {
   "cell_type": "markdown",
   "id": "b9371ef6",
   "metadata": {},
   "source": [
    "9. **Schema change (DDL):** Add a `phone` column to `Customers` (nullable).  \n",
    "   - Update **Diego** to have a phone number.\n"
   ]
  },
  {
   "cell_type": "code",
   "execution_count": null,
   "id": "205d9792",
   "metadata": {},
   "outputs": [],
   "source": []
  },
  {
   "cell_type": "markdown",
   "id": "abeff245",
   "metadata": {},
   "source": [
    "10. **Bonus:** Write a single query that shows `name`, `last_order_date`, and `lifetime_spend_usd` for each customer (including those with 0 orders)."
   ]
  },
  {
   "cell_type": "markdown",
   "id": "6fd2a213",
   "metadata": {},
   "source": []
  }
 ],
 "metadata": {
  "kernelspec": {
   "display_name": "Python 3",
   "language": "python",
   "name": "python3"
  },
  "language_info": {
   "name": "python",
   "version": "3.13.5"
  }
 },
 "nbformat": 4,
 "nbformat_minor": 5
}
